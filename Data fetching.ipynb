{
 "cells": [
  {
   "cell_type": "code",
   "execution_count": null,
   "id": "40178680",
   "metadata": {},
   "outputs": [],
   "source": [
    "import requests\n",
    "import pandas as pd\n",
    "def fetch_data(ids_dataset_path,batch_size,output_path ):\n",
    "    \"\"\"get the text which opposite the id and return dataframe with text and dialect\n",
    "    \n",
    "    batch_size : maximum =1000\n",
    "    \"\"\"\n",
    "    # get the data of id + dialect\n",
    "    df=pd.read_csv(ids_dataset_path)\n",
    "    # use ids to get the text\n",
    "    data={}\n",
    "    url = 'https://recruitment.aimtechnologies.co/ai-tasks'\n",
    "    for i in range(0,df.shape[0],batch_size):\n",
    "        if i +batch_size > df.shape[0]:\n",
    "            myobj = [str(j) for j in df.id][i:]\n",
    "        else:\n",
    "            myobj = [str(j) for j in df.id][i:i+batch_size]\n",
    "\n",
    "        data.update((requests.post(url, json = myobj)).json())\n",
    "    # making dataframe of id + text to be joined with dialect\n",
    "    df2=pd.DataFrame(data.items(),columns=['id','Text'])\n",
    "    # turning id to int so that it can match id in the first df \n",
    "    df2[\"id\"] = pd.to_numeric(df2[\"id\"])\n",
    "    #joining the two dataframes\n",
    "    raw_data=pd.merge(df2,df,on=\"id\")\n",
    "    #saving the data to csv file\n",
    "    raw_data.to_csv(output_path,index=False)\n",
    "    return raw_data\n",
    "    "
   ]
  }
 ],
 "metadata": {
  "kernelspec": {
   "display_name": "Python 3 (ipykernel)",
   "language": "python",
   "name": "python3"
  },
  "language_info": {
   "codemirror_mode": {
    "name": "ipython",
    "version": 3
   },
   "file_extension": ".py",
   "mimetype": "text/x-python",
   "name": "python",
   "nbconvert_exporter": "python",
   "pygments_lexer": "ipython3",
   "version": "3.8.5"
  }
 },
 "nbformat": 4,
 "nbformat_minor": 5
}
